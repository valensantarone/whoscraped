{
 "cells": [
  {
   "cell_type": "code",
   "execution_count": 1,
   "metadata": {},
   "outputs": [],
   "source": [
    "import whoscraped"
   ]
  },
  {
   "cell_type": "code",
   "execution_count": 2,
   "metadata": {},
   "outputs": [],
   "source": [
    "url = 'https://www.whoscored.com/Matches/1821070/Live/England-Premier-League-2024-2025-Manchester-United-Liverpool'"
   ]
  },
  {
   "cell_type": "code",
   "execution_count": 3,
   "metadata": {},
   "outputs": [],
   "source": [
    "data = whoscraped.get_match_data(url)"
   ]
  },
  {
   "cell_type": "code",
   "execution_count": 8,
   "metadata": {},
   "outputs": [
    {
     "data": {
      "text/plain": [
       "['0', '3']"
      ]
     },
     "execution_count": 8,
     "metadata": {},
     "output_type": "execute_result"
    }
   ],
   "source": [
    "data['matchCentreData']['score'].split(' : ')"
   ]
  },
  {
   "cell_type": "code",
   "execution_count": 4,
   "metadata": {},
   "outputs": [
    {
     "data": {
      "text/html": [
       "<div>\n",
       "<style scoped>\n",
       "    .dataframe tbody tr th:only-of-type {\n",
       "        vertical-align: middle;\n",
       "    }\n",
       "\n",
       "    .dataframe tbody tr th {\n",
       "        vertical-align: top;\n",
       "    }\n",
       "\n",
       "    .dataframe thead th {\n",
       "        text-align: right;\n",
       "    }\n",
       "</style>\n",
       "<table border=\"1\" class=\"dataframe\">\n",
       "  <thead>\n",
       "    <tr style=\"text-align: right;\">\n",
       "      <th></th>\n",
       "      <th>shotsTotal</th>\n",
       "      <th>shotsOnTarget</th>\n",
       "      <th>shotsOffTarget</th>\n",
       "      <th>clearances</th>\n",
       "      <th>interceptions</th>\n",
       "      <th>touches</th>\n",
       "      <th>passesTotal</th>\n",
       "      <th>passesAccurate</th>\n",
       "      <th>passesKey</th>\n",
       "      <th>aerialsTotal</th>\n",
       "      <th>...</th>\n",
       "      <th>tackleSuccessful</th>\n",
       "      <th>tackleUnsuccesful</th>\n",
       "      <th>dribbledPast</th>\n",
       "      <th>dribblesWon</th>\n",
       "      <th>dribblesAttempted</th>\n",
       "      <th>dribblesLost</th>\n",
       "      <th>dispossessed</th>\n",
       "      <th>errors</th>\n",
       "      <th>shotsBlocked</th>\n",
       "      <th>offsidesCaught</th>\n",
       "    </tr>\n",
       "  </thead>\n",
       "  <tbody>\n",
       "    <tr>\n",
       "      <th>home</th>\n",
       "      <td>8</td>\n",
       "      <td>3</td>\n",
       "      <td>5</td>\n",
       "      <td>10</td>\n",
       "      <td>7</td>\n",
       "      <td>696</td>\n",
       "      <td>507</td>\n",
       "      <td>421</td>\n",
       "      <td>7</td>\n",
       "      <td>18</td>\n",
       "      <td>...</td>\n",
       "      <td>32</td>\n",
       "      <td>5</td>\n",
       "      <td>5</td>\n",
       "      <td>8</td>\n",
       "      <td>22</td>\n",
       "      <td>14</td>\n",
       "      <td>11</td>\n",
       "      <td>4</td>\n",
       "      <td>0</td>\n",
       "      <td>0</td>\n",
       "    </tr>\n",
       "    <tr>\n",
       "      <th>away</th>\n",
       "      <td>11</td>\n",
       "      <td>3</td>\n",
       "      <td>7</td>\n",
       "      <td>28</td>\n",
       "      <td>10</td>\n",
       "      <td>656</td>\n",
       "      <td>464</td>\n",
       "      <td>391</td>\n",
       "      <td>9</td>\n",
       "      <td>18</td>\n",
       "      <td>...</td>\n",
       "      <td>24</td>\n",
       "      <td>8</td>\n",
       "      <td>8</td>\n",
       "      <td>5</td>\n",
       "      <td>20</td>\n",
       "      <td>15</td>\n",
       "      <td>18</td>\n",
       "      <td>0</td>\n",
       "      <td>1</td>\n",
       "      <td>2</td>\n",
       "    </tr>\n",
       "  </tbody>\n",
       "</table>\n",
       "<p>2 rows × 30 columns</p>\n",
       "</div>"
      ],
      "text/plain": [
       "      shotsTotal  shotsOnTarget  shotsOffTarget  clearances  interceptions  \\\n",
       "home           8              3               5          10              7   \n",
       "away          11              3               7          28             10   \n",
       "\n",
       "      touches  passesTotal  passesAccurate  passesKey  aerialsTotal  ...  \\\n",
       "home      696          507             421          7            18  ...   \n",
       "away      656          464             391          9            18  ...   \n",
       "\n",
       "      tackleSuccessful  tackleUnsuccesful  dribbledPast  dribblesWon  \\\n",
       "home                32                  5             5            8   \n",
       "away                24                  8             8            5   \n",
       "\n",
       "      dribblesAttempted  dribblesLost  dispossessed  errors  shotsBlocked  \\\n",
       "home                 22            14            11       4             0   \n",
       "away                 20            15            18       0             1   \n",
       "\n",
       "      offsidesCaught  \n",
       "home               0  \n",
       "away               2  \n",
       "\n",
       "[2 rows x 30 columns]"
      ]
     },
     "execution_count": 4,
     "metadata": {},
     "output_type": "execute_result"
    }
   ],
   "source": [
    "whoscraped.get_team_stats(data)"
   ]
  }
 ],
 "metadata": {
  "kernelspec": {
   "display_name": "Python 3",
   "language": "python",
   "name": "python3"
  },
  "language_info": {
   "codemirror_mode": {
    "name": "ipython",
    "version": 3
   },
   "file_extension": ".py",
   "mimetype": "text/x-python",
   "name": "python",
   "nbconvert_exporter": "python",
   "pygments_lexer": "ipython3",
   "version": "3.12.5"
  }
 },
 "nbformat": 4,
 "nbformat_minor": 2
}
